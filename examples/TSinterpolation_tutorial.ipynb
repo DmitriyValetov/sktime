{
 "cells": [
  {
   "cell_type": "code",
   "execution_count": 7,
   "metadata": {},
   "outputs": [],
   "source": [
    "import random\n",
    "import numpy as np\n",
    "import pandas as pd"
   ]
  },
  {
   "cell_type": "code",
   "execution_count": 8,
   "metadata": {},
   "outputs": [],
   "source": [
    "from sklearn.pipeline import Pipeline\n",
    "from sktime.datasets import load_basic_motions\n",
    "from sktime.transformers.series_as_features.compose import ColumnConcatenator\n",
    "from sktime.classification.compose import TimeSeriesForestClassifier"
   ]
  },
  {
   "cell_type": "markdown",
   "metadata": {},
   "source": [
    "# Ordinary situation"
   ]
  },
  {
   "cell_type": "code",
   "execution_count": 9,
   "metadata": {},
   "outputs": [
    {
     "data": {
      "text/plain": [
       "1.0"
      ]
     },
     "execution_count": 9,
     "metadata": {},
     "output_type": "execute_result"
    }
   ],
   "source": [
    "X_train, y_train = load_basic_motions(split='TRAIN', return_X_y=True)\n",
    "X_test, y_test = load_basic_motions(split='TEST', return_X_y=True)\n",
    "\n",
    "\n",
    "steps = [\n",
    "    ('concatenate', ColumnConcatenator()),\n",
    "    ('classify', TimeSeriesForestClassifier(n_estimators=100))]\n",
    "clf = Pipeline(steps)\n",
    "clf.fit(X_train, y_train)\n",
    "clf.score(X_test, y_test)"
   ]
  },
  {
   "cell_type": "markdown",
   "metadata": {},
   "source": [
    "# If time serial are unequal length -> algorithm raises an error"
   ]
  },
  {
   "cell_type": "code",
   "execution_count": 10,
   "metadata": {},
   "outputs": [],
   "source": [
    "# randomly cut the data series\n",
    "def random_cut(df):\n",
    "    for row_i in range(df.shape[0]):\n",
    "        for dim_i in range(df.shape[1]):\n",
    "            ts = df.at[row_i, f'dim_{dim_i}']\n",
    "            df.at[row_i, f'dim_{dim_i}'] = pd.Series(ts.tolist()[:random.randint(len(ts)-5, len(ts)-3)]) # here is a problem"
   ]
  },
  {
   "cell_type": "code",
   "execution_count": 16,
   "metadata": {},
   "outputs": [
    {
     "name": "stdout",
     "output_type": "stream",
     "text": [
      "IndexError: Tabularization failed, it's possible that not all series were of equal length\n"
     ]
    }
   ],
   "source": [
    "X_train, y_train = load_basic_motions(split='TRAIN', return_X_y=True)\n",
    "X_test, y_test = load_basic_motions(split='TEST', return_X_y=True)\n",
    "            \n",
    "for df in [X_train, X_test]:\n",
    "    random_cut(df)\n",
    "    \n",
    "try:\n",
    "    steps = [\n",
    "        ('concatenate', ColumnConcatenator()),\n",
    "        ('classify', TimeSeriesForestClassifier(n_estimators=100))]\n",
    "    clf = Pipeline(steps)\n",
    "    clf.fit(X_train, y_train)\n",
    "    clf.score(X_test, y_test)\n",
    "except ValueError as e:\n",
    "    print(f\"IndexError: {e}\")"
   ]
  },
  {
   "cell_type": "markdown",
   "metadata": {},
   "source": [
    "# Now the resizing enrolls"
   ]
  },
  {
   "cell_type": "code",
   "execution_count": 19,
   "metadata": {},
   "outputs": [
    {
     "data": {
      "text/plain": [
       "1.0"
      ]
     },
     "execution_count": 19,
     "metadata": {},
     "output_type": "execute_result"
    }
   ],
   "source": [
    "from sktime.transformers.series_as_features.interpolate import TSInterpolator \n",
    "\n",
    "X_train, y_train = load_basic_motions(split='TRAIN', return_X_y=True)\n",
    "X_test, y_test = load_basic_motions(split='TEST', return_X_y=True)\n",
    "            \n",
    "for df in [X_train, X_test]:\n",
    "    random_cut(df)\n",
    "    \n",
    "steps = [\n",
    "    ('transform', TSInterpolator(50)),\n",
    "    ('concatenate', ColumnConcatenator()),\n",
    "    ('classify', TimeSeriesForestClassifier(n_estimators=100))]\n",
    "clf = Pipeline(steps)\n",
    "clf.fit(X_train, y_train)\n",
    "clf.score(X_test, y_test)"
   ]
  }
 ],
 "metadata": {
  "kernelspec": {
   "display_name": "Python 3",
   "language": "python",
   "name": "python3"
  },
  "language_info": {
   "codemirror_mode": {
    "name": "ipython",
    "version": 3
   },
   "file_extension": ".py",
   "mimetype": "text/x-python",
   "name": "python",
   "nbconvert_exporter": "python",
   "pygments_lexer": "ipython3",
   "version": "3.7.5"
  }
 },
 "nbformat": 4,
 "nbformat_minor": 4
}
